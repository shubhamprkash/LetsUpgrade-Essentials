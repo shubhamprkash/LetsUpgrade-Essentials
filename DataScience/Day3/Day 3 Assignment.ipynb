{
 "cells": [
  {
   "cell_type": "markdown",
   "metadata": {},
   "source": [
    "# Day 3 Assignment | Shubham Prakash"
   ]
  },
  {
   "cell_type": "markdown",
   "metadata": {},
   "source": [
    "Questions 1:\n",
    "Create a numpy array starting from 2 till 50 with a stepsize of 3."
   ]
  },
  {
   "cell_type": "code",
   "execution_count": 1,
   "metadata": {},
   "outputs": [
    {
     "name": "stdout",
     "output_type": "stream",
     "text": [
      "[ 2  5  8 11 14 17 20 23 26 29 32 35 38 41 44 47]\n"
     ]
    }
   ],
   "source": [
    "import numpy as np\n",
    "arr=np.array(range(2,50,3))\n",
    "print(arr)"
   ]
  },
  {
   "cell_type": "markdown",
   "metadata": {},
   "source": [
    " Questions 2:\n",
    "Accept two lists of 5 elements each from the user.\n",
    "Convert them to numpy arrays. Concatenate these arrays and print it. Also sort these arrays and print it."
   ]
  },
  {
   "cell_type": "code",
   "execution_count": 2,
   "metadata": {},
   "outputs": [],
   "source": [
    "import numpy as DK"
   ]
  },
  {
   "cell_type": "code",
   "execution_count": 3,
   "metadata": {},
   "outputs": [
    {
     "name": "stdout",
     "output_type": "stream",
     "text": [
      "Enter five values for first list\n",
      "15\n",
      "26\n",
      "33\n",
      "43\n",
      "52\n",
      "Enter five values for second list\n",
      "15\n",
      "26\n",
      "33\n",
      "48\n",
      "54\n",
      " \n",
      " Concatination of two arrays\n",
      " \n",
      "[['5' '6' '3' '3' '2']\n",
      " ['5' '6' '3' '8' '4']]\n",
      " \n",
      "sorting\n",
      " \n",
      "[['2' '3' '3' '5' '6']\n",
      " ['3' '4' '5' '6' '8']]\n"
     ]
    }
   ],
   "source": [
    "k=[]\n",
    "l=[]\n",
    "\n",
    "print(\"Enter five values for first list\")\n",
    "for i in range(1,6):\n",
    "    x=input(i)\n",
    "    k.append(x)\n",
    "\n",
    "print(\"Enter five values for second list\")\n",
    "for i in range(1,6):\n",
    "    x=input(i)\n",
    "    l.append(x)\n",
    "\n",
    "arr1=DK.array([k])\n",
    "arr2=DK.array([l])\n",
    "\n",
    "\n",
    "print(\" \")\n",
    "print(\" Concatination of two arrays\")\n",
    "print(\" \")\n",
    "arr_con=DK.concatenate([arr1,arr2])\n",
    "print(arr_con)\n",
    "\n",
    "print(\" \")\n",
    "print(\"sorting\")\n",
    "print(\" \")\n",
    "print(DK.sort(arr_con))\n",
    "\n",
    "\n",
    "    \n"
   ]
  },
  {
   "cell_type": "markdown",
   "metadata": {},
   "source": [
    "Questions 3:\n",
    "Write a code snippet to find the dimensions of a ndarray and its size of unique items?"
   ]
  },
  {
   "cell_type": "code",
   "execution_count": 32,
   "metadata": {},
   "outputs": [
    {
     "name": "stdout",
     "output_type": "stream",
     "text": [
      "dimension of array:  2\n",
      " \n",
      "Size of array:  9\n"
     ]
    }
   ],
   "source": [
    "\n",
    "arr=DK.array([[ 1, 2, 3],[ 4, 5, 6],[7,8,9]])\n",
    " \n",
    "print(\"dimension of array: \",arr.ndim)\n",
    "print(\" \")\n",
    "print(\"Size of array: \",arr.size)\n",
    " \n",
    "\n"
   ]
  },
  {
   "cell_type": "markdown",
   "metadata": {},
   "source": [
    "Questions 4:\n",
    "How to convert a 1D array into a 2D array? Demonstrate with the help of a code snippet\n",
    "Hint: np.newaxis, np.expand_dims"
   ]
  },
  {
   "cell_type": "code",
   "execution_count": 74,
   "metadata": {},
   "outputs": [
    {
     "name": "stdout",
     "output_type": "stream",
     "text": [
      "[1 2 3 4 5 6]\n",
      " \n",
      "1D array converted into 2D array\n",
      "[[1 2 3]\n",
      " [4 5 6]]\n",
      " \n",
      "one row six column\n",
      "(1, 6)\n",
      "six rows six columns\n",
      "(6, 1)\n"
     ]
    }
   ],
   "source": [
    "arr_re=DK.array([1,2,3,4,5,6])\n",
    "print(arr_re)\n",
    "print(\" \")\n",
    "print(\"1D array converted into 2D array\")\n",
    "re=DK.reshape(arr_re,(2,3))\n",
    "print(re)\n",
    "print(\" \")\n",
    "\n",
    "# DK.newaxis\n",
    "row=arr_re[DK.newaxis,:]\n",
    "print(\"one row six column\")\n",
    "print(row.shape)\n",
    "col=arr_re[:,DK.newaxis]\n",
    "print(\"six rows six columns\")\n",
    "print(col.shape)\n",
    "\n"
   ]
  }
 ],
 "metadata": {
  "kernelspec": {
   "display_name": "Python 3",
   "language": "python",
   "name": "python3"
  },
  "language_info": {
   "codemirror_mode": {
    "name": "ipython",
    "version": 3
   },
   "file_extension": ".py",
   "mimetype": "text/x-python",
   "name": "python",
   "nbconvert_exporter": "python",
   "pygments_lexer": "ipython3",
   "version": "3.6.11"
  }
 },
 "nbformat": 4,
 "nbformat_minor": 4
}
